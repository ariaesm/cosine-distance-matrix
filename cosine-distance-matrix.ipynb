{
 "cells": [
  {
   "cell_type": "code",
   "execution_count": null,
   "metadata": {},
   "outputs": [],
   "source": [
    "#Aria Esmaeilzadeh -- cosine distanse using given matrix in python\n",
    "\n",
    "import numpy as np\n",
    "from sklearn.metrics import pairwise_distances\n",
    "from scipy.spatial.distance import cosine\n",
    "#++++++++++++++++++++++++++++++++++++++++++++++++++++++\n",
    "\n",
    "\n",
    "A = np.array(\n",
    "[[1,5],\n",
    "  [4,1],\n",
    "  [3,8]])\n",
    "\n",
    "dist_out = 1-pairwise_distances(A, metric=\"cosine\")\n",
    "print(dist_out)"
   ]
  },
  {
   "cell_type": "code",
   "execution_count": null,
   "metadata": {},
   "outputs": [],
   "source": []
  }
 ],
 "metadata": {
  "kernelspec": {
   "display_name": "Python 3.10.5 64-bit",
   "language": "python",
   "name": "python3"
  },
  "language_info": {
   "name": "python",
   "version": "3.10.5"
  },
  "orig_nbformat": 4,
  "vscode": {
   "interpreter": {
    "hash": "4e5917baa9facce0f71db2ff177c0412198e12c3e60e1974d135a999f81d5137"
   }
  }
 },
 "nbformat": 4,
 "nbformat_minor": 2
}
